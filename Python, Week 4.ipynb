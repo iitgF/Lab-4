{
 "cells": [
  {
   "cell_type": "code",
   "execution_count": 65,
   "metadata": {},
   "outputs": [
    {
     "name": "stdout",
     "output_type": "stream",
     "text": [
      "Unexpected error occurred: name 'q' is not defined\n",
      "0.5\n"
     ]
    }
   ],
   "source": [
    "try: \n",
    "    # Code that might raise exceptions \n",
    "    result = 1 / q  # Example: division by zero \n",
    "    print(result)\n",
    "except ZeroDivisionError: \n",
    "    print(\"Oops! Division by zero occurred.\") \n",
    "except ValueError: \n",
    "    print(\"Oops! A value error occurred.\") \n",
    "except (TypeError, IndexError): \n",
    "    print(\"Oops! Either a type error or an index error happened.\") \n",
    "except Exception as e: \n",
    "    print(f\"Unexpected error occurred: {e}\")\n",
    "print(result)"
   ]
  },
  {
   "cell_type": "code",
   "execution_count": 50,
   "metadata": {},
   "outputs": [
    {
     "name": "stdout",
     "output_type": "stream",
     "text": [
      "Python-Programming-Test\n"
     ]
    }
   ],
   "source": [
    "a = 6\n",
    "if(a>2 and 2*a<20):\n",
    "    print(\"Python\", \"Programming\", \"Test\", sep=\"-\")\n",
    "else:\n",
    "    print(\"Conditional statement\")"
   ]
  },
  {
   "cell_type": "code",
   "execution_count": 49,
   "metadata": {},
   "outputs": [
    {
     "name": "stdout",
     "output_type": "stream",
     "text": [
      "Invalid input. Please enter a number.\n"
     ]
    }
   ],
   "source": [
    "try:\n",
    "    x = int(input(\"Enter a number\"))\n",
    "    y = 10/x\n",
    "    print(f\"Result: {y}\")\n",
    "except ValueError:\n",
    "    print(\"Invalid input. Please enter a number.\")\n",
    "except ZeroDivisionError:\n",
    "    print(\"Cannot divide by zero.\")\n"
   ]
  },
  {
   "cell_type": "code",
   "execution_count": 12,
   "metadata": {},
   "outputs": [
    {
     "name": "stdout",
     "output_type": "stream",
     "text": [
      "hello\n",
      "there-and here!\n"
     ]
    }
   ],
   "source": [
    "x = 10\n",
    "\n",
    "if x > 5:\n",
    "    print(\"hello\")\n",
    "    print(\"there\", end='-')\n",
    "print(\"and here!\")"
   ]
  },
  {
   "cell_type": "code",
   "execution_count": 21,
   "metadata": {},
   "outputs": [
    {
     "name": "stdout",
     "output_type": "stream",
     "text": [
      "x is less than or equal to 5\n"
     ]
    }
   ],
   "source": [
    "x=4\n",
    "\n",
    "if x>5:\n",
    "    pass\n",
    "    print(\"x is greater than 5\")\n",
    "else:\n",
    "    pass\n",
    "    print(\"x is less than or equal to 5\")\n"
   ]
  },
  {
   "cell_type": "code",
   "execution_count": 22,
   "metadata": {},
   "outputs": [
    {
     "name": "stdout",
     "output_type": "stream",
     "text": [
      "x-z\n"
     ]
    }
   ],
   "source": [
    "a=-2\n",
    "if a>3:\n",
    "    if a>4:\n",
    "        print('w', end=\"-\")\n",
    "    else:\n",
    "        print('y', end=\"-\")\n",
    "elif a<2:\n",
    "    if (a!=0):\n",
    "        print('x', end=\"-\")\n",
    "print('z')"
   ]
  },
  {
   "cell_type": "code",
   "execution_count": 31,
   "metadata": {},
   "outputs": [],
   "source": [
    "if (x==10):\n",
    "    print(x)"
   ]
  },
  {
   "cell_type": "code",
   "execution_count": 23,
   "metadata": {},
   "outputs": [
    {
     "name": "stdout",
     "output_type": "stream",
     "text": [
      "1\n"
     ]
    }
   ],
   "source": [
    "x=1\n",
    "if(x>2):\n",
    "    x=x*2\n",
    "if(x>4):\n",
    "    x=0\n",
    "print(x)"
   ]
  },
  {
   "cell_type": "code",
   "execution_count": 46,
   "metadata": {},
   "outputs": [
    {
     "name": "stdout",
     "output_type": "stream",
     "text": [
      "True\n",
      "False\n",
      "False\n",
      "True\n",
      "False\n",
      "False\n",
      "True\n",
      "True\n",
      "True\n",
      "m\n"
     ]
    }
   ],
   "source": [
    "m = False\n",
    "n = False\n",
    "o = False\n",
    "\n",
    "print(not m)\n",
    "print(m or n)\n",
    "print((not n) and o)\n",
    "print(not (m or n))\n",
    "print(not m and o)\n",
    "print((not m) and o)\n",
    "print(not (m and o))\n",
    "print(not m or not n and o)\n",
    "print(not m or n or not n and m)\n",
    "if not m or n:\n",
    "    print(\"m\")\n",
    "elif not m or not n and o:\n",
    "    print(\"n\")\n",
    "elif not m or n or not n and m:\n",
    "    print(\"o\")\n",
    "else:\n",
    "    print(\"p\")\n"
   ]
  },
  {
   "cell_type": "code",
   "execution_count": 24,
   "metadata": {},
   "outputs": [
    {
     "name": "stdout",
     "output_type": "stream",
     "text": [
      "Greater than 10\n",
      "Less than or equal to 20\n"
     ]
    }
   ],
   "source": [
    "num=15\n",
    "if  num>10:\n",
    "    print(\"Greater than 10\")\n",
    "if num >20:\n",
    "    print(\"Greater than 20\")\n",
    "else:\n",
    "    print(\"Less than or equal to 20\")"
   ]
  },
  {
   "cell_type": "code",
   "execution_count": 25,
   "metadata": {},
   "outputs": [
    {
     "name": "stdout",
     "output_type": "stream",
     "text": [
      "x is greater than 5\n"
     ]
    }
   ],
   "source": [
    "x=65\n",
    "if x>5:\n",
    "    pass\n",
    "    print(\"x is greater than 5\")\n",
    "else:\n",
    "    print(\"x is less than or equal to 5\")"
   ]
  },
  {
   "cell_type": "code",
   "execution_count": 26,
   "metadata": {},
   "outputs": [
    {
     "name": "stdout",
     "output_type": "stream",
     "text": [
      "Result: 5.0\n",
      "Invalid data type for division.\n"
     ]
    }
   ],
   "source": [
    "def divide_numbers(a, b):\n",
    "    try:\n",
    "        result = a/b\n",
    "    except TypeError:\n",
    "        print(\"Invalid data type for division.\")\n",
    "    else:\n",
    "        print(f\"Result: {result}\")\n",
    "\n",
    "divide_numbers(10,2)\n",
    "divide_numbers(\"hello\", 3)\n"
   ]
  },
  {
   "cell_type": "code",
   "execution_count": 27,
   "metadata": {},
   "outputs": [
    {
     "name": "stdout",
     "output_type": "stream",
     "text": [
      "10\n",
      "0\n",
      "A\n"
     ]
    }
   ],
   "source": [
    "try:\n",
    "    x = int(input(\"Enter a number\"))\n",
    "    print(x)\n",
    "    if x>0:\n",
    "        print (x%2)\n",
    "        if x%2 == 0:\n",
    "            print(\"A\")\n",
    "        else:\n",
    "            print(\"C\")\n",
    "    else:\n",
    "        print(\"D\")\n",
    "except ValueError:\n",
    "    print(\"E\")\n"
   ]
  },
  {
   "cell_type": "code",
   "execution_count": 62,
   "metadata": {},
   "outputs": [
    {
     "name": "stdout",
     "output_type": "stream",
     "text": [
      "x is greater than 5\n"
     ]
    }
   ],
   "source": [
    "x = 10\n",
    "y = 208\n",
    "\n",
    "if x>5:\n",
    "    print(\"x is greater than 5\")\n",
    "elif y>10:\n",
    "    print(\"y is greater than 10\")\n",
    "elif x+y==30:\n",
    "    print(\"x+y is equal to 30\")\n",
    "else:\n",
    "    print(\"None of the conditions are met\")"
   ]
  },
  {
   "cell_type": "code",
   "execution_count": 48,
   "metadata": {},
   "outputs": [
    {
     "name": "stdout",
     "output_type": "stream",
     "text": [
      "E\n"
     ]
    }
   ],
   "source": [
    "try:\n",
    "    x=int(input(\"Enter: \"))\n",
    "    if x>0:\n",
    "        if x%2==0:\n",
    "            print(A)\n",
    "        else:\n",
    "            print(\"B\")\n",
    "    elif x<0:\n",
    "        print(\"C\")\n",
    "    else:\n",
    "        print(\"D\")\n",
    "except ValueError:\n",
    "    print(\"E\")\n",
    "    \n",
    "    "
   ]
  },
  {
   "cell_type": "code",
   "execution_count": 53,
   "metadata": {},
   "outputs": [
    {
     "name": "stdout",
     "output_type": "stream",
     "text": [
      "Division by zero\n",
      "Do you think this will be printed?\n"
     ]
    }
   ],
   "source": [
    "a, b = 1, 0\n",
    "try:\n",
    "    print(a/b)\n",
    "except:\n",
    "    print(\"Division by zero\")\n",
    "print(\"Do you think this will be printed?\")"
   ]
  },
  {
   "cell_type": "code",
   "execution_count": 56,
   "metadata": {},
   "outputs": [
    {
     "name": "stdout",
     "output_type": "stream",
     "text": [
      "Nothing special\n"
     ]
    }
   ],
   "source": [
    "X=10\n",
    "Y=17\n",
    "Z=8\n",
    "if(X==Y==Z):\n",
    "    print(\"Equilateral\")\n",
    "elif (X==Y or Y==Z or Z==X):\n",
    "    print(\"Isosceles\")\n",
    "else: print(\"Nothing special\")"
   ]
  },
  {
   "cell_type": "code",
   "execution_count": 61,
   "metadata": {},
   "outputs": [
    {
     "name": "stdout",
     "output_type": "stream",
     "text": [
      "False\n",
      "True\n",
      "n\n"
     ]
    }
   ],
   "source": [
    "m=True\n",
    "n=False\n",
    "o=True\n",
    "\n",
    "print (not m or n)\n",
    "print (not m or not n and o)\n",
    "\n",
    "if not m or n:\n",
    "    print(\"m\")\n",
    "elif not m or not n and o:\n",
    "    print(\"n\")\n",
    "elif not m or n or not n and m:\n",
    "    print(\"o\")\n",
    "else:\n",
    "    print(\"p\")"
   ]
  }
 ],
 "metadata": {
  "kernelspec": {
   "display_name": "Python 3",
   "language": "python",
   "name": "python3"
  },
  "language_info": {
   "codemirror_mode": {
    "name": "ipython",
    "version": 3
   },
   "file_extension": ".py",
   "mimetype": "text/x-python",
   "name": "python",
   "nbconvert_exporter": "python",
   "pygments_lexer": "ipython3",
   "version": "3.12.2"
  }
 },
 "nbformat": 4,
 "nbformat_minor": 2
}
